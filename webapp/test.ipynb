{
 "cells": [
  {
   "cell_type": "code",
   "execution_count": null,
   "metadata": {},
   "outputs": [],
   "source": [
    "can you rewrite the html, don't add css I will tell you to write the css in a different file\n",
    "first write the html\n",
    "here the things to keep in mind\n",
    "    * just use a card view no list view\n",
    "    * add an option to light and dark mode\n",
    "    * filters and search doesn't work fix that\n",
    "    * make the style look more modern (which css will do I know but still) write html by keeping that in mind that it's going to be modern and super stylish\n",
    "    * also donn't make different columns there there will be just a card view and on that there will be title, (votes, rating in small font)\n",
    "    * \n"
   ]
  }
 ],
 "metadata": {
  "language_info": {
   "name": "python"
  },
  "orig_nbformat": 4
 },
 "nbformat": 4,
 "nbformat_minor": 2
}
